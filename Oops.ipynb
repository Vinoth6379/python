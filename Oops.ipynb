{
 "cells": [
  {
   "cell_type": "code",
   "execution_count": 1,
   "id": "a2bb0df5-77b5-42eb-8b72-3ae0a4b55168",
   "metadata": {},
   "outputs": [],
   "source": [
    "class vinoth:\n",
    "    \n",
    "    def __init__(self, a, b):\n",
    "        self.a = a\n",
    "        self.b = b \n",
    "        \n",
    "    def add(self):\n",
    "\n",
    "        \"\"\"This program adds two\n",
    "        numbers and return the result\"\"\"\n",
    "\n",
    "        result = self.a + self.b\n",
    "        return result\n",
    "\n",
    "    def sub(self):\n",
    "\n",
    "        \"\"\"This program sub two\n",
    "        numbers and return the result\"\"\"\n",
    "\n",
    "        result=self.a-self.b\n",
    "        return result"
   ]
  },
  {
   "cell_type": "code",
   "execution_count": 2,
   "id": "e83e3d46-47f3-40ff-8f17-277f5e26f88d",
   "metadata": {},
   "outputs": [],
   "source": [
    "a=vinoth(1,3)"
   ]
  },
  {
   "cell_type": "code",
   "execution_count": 3,
   "id": "76903745-a1b7-428b-83c4-e2672b1aa1c0",
   "metadata": {},
   "outputs": [
    {
     "data": {
      "text/plain": [
       "4"
      ]
     },
     "execution_count": 3,
     "metadata": {},
     "output_type": "execute_result"
    }
   ],
   "source": [
    "a.add()"
   ]
  },
  {
   "cell_type": "code",
   "execution_count": 4,
   "id": "789ace78-bf2a-4398-8ba8-30764b25dd80",
   "metadata": {},
   "outputs": [
    {
     "data": {
      "text/plain": [
       "-2"
      ]
     },
     "execution_count": 4,
     "metadata": {},
     "output_type": "execute_result"
    }
   ],
   "source": [
    "a.sub()"
   ]
  },
  {
   "cell_type": "markdown",
   "id": "97dbed72-c5dd-456c-bd79-7d64bdda0926",
   "metadata": {},
   "source": [
    "Major Oops concept;\n",
    "\n",
    "*Class\n",
    "*Object\n",
    "*Method\n",
    "*Inheritance\n",
    "*Encapsulation\n",
    "*Polymorphism\n",
    "*Data Abstraction"
   ]
  },
  {
   "cell_type": "markdown",
   "id": "0f99a122-100a-4bcb-a53e-f060c7561728",
   "metadata": {},
   "source": [
    "Class;\n",
    "collection of object"
   ]
  },
  {
   "cell_type": "code",
   "execution_count": null,
   "id": "835c0134-396d-4573-a237-d7357049c7bc",
   "metadata": {},
   "outputs": [],
   "source": [
    "class class_name:\n",
    "    # class body\n"
   ]
  },
  {
   "cell_type": "markdown",
   "id": "75f82102-4798-49eb-a98a-12e3210c31c8",
   "metadata": {},
   "source": [
    "Objects"
   ]
  },
  {
   "cell_type": "code",
   "execution_count": null,
   "id": "d02c8c4a-b83c-45ba-8e42-beae94da95d2",
   "metadata": {},
   "outputs": [],
   "source": [
    "obj1 = class_name()"
   ]
  },
  {
   "cell_type": "markdown",
   "id": "86acb828-5cb0-4a48-a2ea-635e3ecc280c",
   "metadata": {},
   "source": [
    "Class constructor;\n",
    "assign the values to the data members of the class when an object of the class is created."
   ]
  },
  {
   "cell_type": "code",
   "execution_count": null,
   "id": "9d6c5899-1fad-4cfc-b1ab-0024cca2d826",
   "metadata": {},
   "outputs": [],
   "source": [
    "class Car:\n",
    "    def __init__(self, name, color):   #constructed method\n",
    "        self.name = name\n",
    "        self.color = color"
   ]
  },
  {
   "cell_type": "code",
   "execution_count": null,
   "id": "5474bfed-e706-4922-9714-998e17298caa",
   "metadata": {},
   "outputs": [],
   "source": [
    "class Car:\n",
    "    car_type = \"Sedan\"                 #class attribute or variable\n",
    "    def __init__(self, name, color):\n",
    "        self.name = name               #instance attribute or variable   \n",
    "        self.color = color             #instance attribute or variable"
   ]
  },
  {
   "cell_type": "markdown",
   "id": "a2378b7c-c3d8-440a-8a8d-d74c6bf7b8a0",
   "metadata": {},
   "source": [
    "Class methods;\n",
    "Methods are the functions that we use to describe the behavior of the objects"
   ]
  },
  {
   "cell_type": "code",
   "execution_count": 7,
   "id": "52daa48c-4815-4775-96d5-bc947c22da22",
   "metadata": {},
   "outputs": [],
   "source": [
    "class Car:   \n",
    "    car_type = \"Sedan\" \n",
    "\n",
    "    def __init__(self, name, mileage):\n",
    "        self.name = name \n",
    "        self.mileage = mileage \n",
    "\n",
    "    def description(self):                 \n",
    "        return f\"The {self.name} car gives the mileage of {self.mileage}km/l\"\n",
    "\n",
    "    def max_speed(self, speed):\n",
    "        return f\"The {self.name} runs at the maximum speed of {speed}km/hr\""
   ]
  },
  {
   "cell_type": "code",
   "execution_count": 8,
   "id": "d5632878-67dc-4336-b480-41f286f9363f",
   "metadata": {},
   "outputs": [],
   "source": [
    "obj2 = Car(\"Honda\",24.1)   # number and Order of the arguments matters."
   ]
  },
  {
   "cell_type": "code",
   "execution_count": 9,
   "id": "dca3e964-9704-4229-ae7a-2fd0ccd710da",
   "metadata": {},
   "outputs": [
    {
     "data": {
      "text/plain": [
       "'The Honda car gives the mileage of 24.1km/l'"
      ]
     },
     "execution_count": 9,
     "metadata": {},
     "output_type": "execute_result"
    }
   ],
   "source": [
    "obj2.description()"
   ]
  },
  {
   "cell_type": "code",
   "execution_count": 10,
   "id": "4d4b647c-c73d-49b3-9a8d-3fa309d84dd9",
   "metadata": {},
   "outputs": [
    {
     "data": {
      "text/plain": [
       "'The Honda runs at the maximum speed of 150km/hr'"
      ]
     },
     "execution_count": 10,
     "metadata": {},
     "output_type": "execute_result"
    }
   ],
   "source": [
    "obj2.max_speed(150)"
   ]
  },
  {
   "cell_type": "markdown",
   "id": "8805ccfc-6962-4d40-a96a-d89cdecada39",
   "metadata": {},
   "source": [
    "Inheritance;\n",
    "Inheritance is the procedure in which one class inherits the attributes and methods of another class."
   ]
  },
  {
   "cell_type": "code",
   "execution_count": null,
   "id": "040f620d-d17a-42fc-8c6f-667f996b780d",
   "metadata": {},
   "outputs": [],
   "source": [
    "class parent_class:\n",
    "    body of parent class\n",
    "\n",
    "class child_class( parent_class):\n",
    "    body of child class"
   ]
  },
  {
   "cell_type": "code",
   "execution_count": null,
   "id": "31befba7-d20a-4ca6-a89c-0b185e8e4449",
   "metadata": {},
   "outputs": [],
   "source": [
    "class Car:          #parent class\n",
    "    def __init__(self, name, mileage):\n",
    "        self.name = name \n",
    "        self.mileage = mileage \n",
    "\n",
    "    def description(self):                \n",
    "        return f\"The {self.name} car gives the mileage of {self.mileage}km/l\""
   ]
  },
  {
   "cell_type": "code",
   "execution_count": 11,
   "id": "225fe3d2-afcc-49bb-8ebc-55cd8263e648",
   "metadata": {},
   "outputs": [
    {
     "data": {
      "text/plain": [
       "'The honda car gives the mileage of 25km/l'"
      ]
     },
     "execution_count": 11,
     "metadata": {},
     "output_type": "execute_result"
    }
   ],
   "source": [
    "s=Car('honda',25)\n",
    "s.description()"
   ]
  },
  {
   "cell_type": "code",
   "execution_count": 19,
   "id": "959e3707-8b6c-407c-9c6e-da74ca978e9a",
   "metadata": {},
   "outputs": [],
   "source": [
    "class Audi(Car):     #child class\n",
    "    def audi_desc(self):\n",
    "        return \"This is the description method of class Audi.\""
   ]
  },
  {
   "cell_type": "code",
   "execution_count": 20,
   "id": "ad30e8af-e6f4-4181-94de-bd18ec75677d",
   "metadata": {},
   "outputs": [],
   "source": [
    "obj2 = Audi(\"Audi A8 L\",14)"
   ]
  },
  {
   "cell_type": "code",
   "execution_count": 21,
   "id": "992d08b5-e0a0-48f4-a876-1aa552d31b69",
   "metadata": {},
   "outputs": [
    {
     "data": {
      "text/plain": [
       "'The Audi A8 L car gives the mileage of 14km/l'"
      ]
     },
     "execution_count": 21,
     "metadata": {},
     "output_type": "execute_result"
    }
   ],
   "source": [
    "obj2.description()"
   ]
  },
  {
   "cell_type": "code",
   "execution_count": 22,
   "id": "aeede660-6659-48d4-aadb-075c1865c0cb",
   "metadata": {},
   "outputs": [
    {
     "data": {
      "text/plain": [
       "'This is the description method of class Audi.'"
      ]
     },
     "execution_count": 22,
     "metadata": {},
     "output_type": "execute_result"
    }
   ],
   "source": [
    "obj2.audi_desc()"
   ]
  },
  {
   "cell_type": "code",
   "execution_count": 23,
   "id": "57c2df84-9f9f-42ee-92b7-8ea365fb4c6b",
   "metadata": {},
   "outputs": [
    {
     "data": {
      "text/plain": [
       "'Audi A8 L'"
      ]
     },
     "execution_count": 23,
     "metadata": {},
     "output_type": "execute_result"
    }
   ],
   "source": [
    "obj2.name"
   ]
  },
  {
   "cell_type": "code",
   "execution_count": 24,
   "id": "47d33e0a-ee05-4bb8-b97c-d4bb371c7d30",
   "metadata": {},
   "outputs": [
    {
     "data": {
      "text/plain": [
       "14"
      ]
     },
     "execution_count": 24,
     "metadata": {},
     "output_type": "execute_result"
    }
   ],
   "source": [
    "obj2.mileage"
   ]
  },
  {
   "cell_type": "markdown",
   "id": "2e644e47-f816-46dd-8440-f427aa0b7a7d",
   "metadata": {},
   "source": [
    "Encapsulation"
   ]
  },
  {
   "cell_type": "code",
   "execution_count": 27,
   "id": "cb22c437-7d8c-4cc8-a800-5729613bb971",
   "metadata": {},
   "outputs": [],
   "source": [
    "class car:\n",
    "\n",
    "    def __init__(self, name, mileage):\n",
    "        self.name__= name                #protected variable\n",
    "        self.mileage__= mileage \n",
    "\n",
    "    def description(self):                \n",
    "        return f\"The {self.name__} car gives the mileage of {self.mileage__}km/l\""
   ]
  },
  {
   "cell_type": "code",
   "execution_count": 28,
   "id": "13447f8b-e6de-497f-9a67-265d753df1a0",
   "metadata": {},
   "outputs": [],
   "source": [
    "obj = car(\"BMW 7-series\",39.53)"
   ]
  },
  {
   "cell_type": "code",
   "execution_count": 29,
   "id": "67ebf086-2a0a-42ad-bcfc-f64b781e70e0",
   "metadata": {},
   "outputs": [
    {
     "name": "stdout",
     "output_type": "stream",
     "text": [
      "The BMW 7-series car gives the mileage of 39.53km/l\n"
     ]
    }
   ],
   "source": [
    "#accessing protected variable via class method \n",
    "print(obj.description())"
   ]
  },
  {
   "cell_type": "code",
   "execution_count": 30,
   "id": "4b6b2c40-2af6-4456-895d-489dc441a728",
   "metadata": {},
   "outputs": [
    {
     "name": "stdout",
     "output_type": "stream",
     "text": [
      "BMW 7-series\n",
      "39.53\n"
     ]
    }
   ],
   "source": [
    "#accessing protected variable directly from outside\n",
    "print(obj.name__)\n",
    "print(obj.mileage__)"
   ]
  },
  {
   "cell_type": "code",
   "execution_count": 31,
   "id": "270c8a77-f533-404d-ac5b-894370ba00a5",
   "metadata": {},
   "outputs": [],
   "source": [
    "class Car:\n",
    "\n",
    "    def __init__(self, name, mileage):\n",
    "        self.__name = name              #private variable        \n",
    "        self.__mileage = mileage \n",
    "\n",
    "    def description(self):\n",
    "        \"des of your car with milleage\"\n",
    "        return f\"The {self.__name} car gives the mileage of {self.__mileage}km/l\""
   ]
  },
  {
   "cell_type": "code",
   "execution_count": 32,
   "id": "437330bb-a538-4af8-a9fc-1cb129d404da",
   "metadata": {},
   "outputs": [],
   "source": [
    "obj = Car(\"BMW 7-series\",39.53)"
   ]
  },
  {
   "cell_type": "code",
   "execution_count": 33,
   "id": "3f52a3c4-1dab-488f-8712-790597be77bf",
   "metadata": {},
   "outputs": [
    {
     "name": "stdout",
     "output_type": "stream",
     "text": [
      "The BMW 7-series car gives the mileage of 39.53km/l\n",
      "39.53\n",
      "BMW 7-series\n"
     ]
    }
   ],
   "source": [
    "obj = Car(\"BMW 7-series\",39.53)\n",
    "\n",
    "#accessing private variable via class method \n",
    "print(obj.description())\n",
    "\n",
    "#accessing private variable directly from outside\n",
    "print(obj._Car__mileage)\n",
    "print(obj._Car__name)      #mangled name"
   ]
  },
  {
   "cell_type": "code",
   "execution_count": 34,
   "id": "e75da315-b79f-42b1-8f02-a2cd4ac0b896",
   "metadata": {},
   "outputs": [
    {
     "data": {
      "text/plain": [
       "'The BMW 7-series car gives the mileage of 39.53km/l'"
      ]
     },
     "execution_count": 34,
     "metadata": {},
     "output_type": "execute_result"
    }
   ],
   "source": [
    "obj.description()"
   ]
  },
  {
   "cell_type": "markdown",
   "id": "07f7b006-e9f5-4853-8d80-8344bd62f30f",
   "metadata": {},
   "source": [
    "Polymorphism;\n",
    "Methods having the same names but carrying different functionalities."
   ]
  },
  {
   "cell_type": "code",
   "execution_count": 35,
   "id": "71749d97-c269-4492-9e37-8c1552089996",
   "metadata": {},
   "outputs": [],
   "source": [
    "class Audi:\n",
    "    def description(self):\n",
    "        print(\"This the description function of class AUDI.\")\n",
    "\n",
    "class BMW:\n",
    "    def description(self):\n",
    "        print(\"This the description function of class BMW.\")"
   ]
  },
  {
   "cell_type": "code",
   "execution_count": 36,
   "id": "a0978061-db58-413e-9b95-00e0cbfd125f",
   "metadata": {},
   "outputs": [
    {
     "name": "stdout",
     "output_type": "stream",
     "text": [
      "This the description function of class AUDI.\n",
      "This the description function of class BMW.\n"
     ]
    }
   ],
   "source": [
    "audi = Audi()\n",
    "bmw = BMW()\n",
    "for i in (audi,bmw):\n",
    "    i.description()"
   ]
  },
  {
   "cell_type": "markdown",
   "id": "0c9e048b-85b4-40d2-b867-3a61e3171d3e",
   "metadata": {},
   "source": [
    "Data abstraction;\n",
    "An abstract class can be considered as a blueprint for other classes."
   ]
  },
  {
   "cell_type": "code",
   "execution_count": 37,
   "id": "ccce8053-8de4-486d-8e61-848a3aca3f05",
   "metadata": {},
   "outputs": [],
   "source": [
    "class Person:   \n",
    "    def __init__(self):\n",
    "        pass\n",
    "\n",
    "    def bio(self):\n",
    "        self.name=\"Sabari\"\n",
    "        self.addr = \"Bakers street, London\"\n",
    "        self.taxInfo = \"HUAPK29971\"\n",
    "        self.contact = \"01-777-523-342\"\n",
    "        return self.name, self.addr, self.taxInfo, self.contact\n",
    "\n",
    "    def interest(self):\n",
    "        self.favFood = \"Chinese\"\n",
    "        self.hobbies = \"Python Programming\"\n",
    "        self.bloodGroup = \"A+\"\n",
    "        return self.favFood, self.hobbies, self.bloodGroup"
   ]
  },
  {
   "cell_type": "code",
   "execution_count": 38,
   "id": "ea61923a-eef8-4747-8088-4819db0061d7",
   "metadata": {},
   "outputs": [],
   "source": [
    "class loan :\n",
    "    \n",
    "    def __init__(self,name,addr,contact,favFood ):\n",
    "        self.name=name\n",
    "        self.addr=addr\n",
    "        self.contact=contact\n",
    "        self.favFood=favFood\n",
    "        \n",
    "    def bio(self):\n",
    "        return self.name, self.addr, self.contact\n",
    "    def interest(self):\n",
    "        return self.favFood\n"
   ]
  },
  {
   "cell_type": "code",
   "execution_count": 39,
   "id": "02513182-ea64-4c76-9aef-fbcbb17f4e55",
   "metadata": {},
   "outputs": [],
   "source": [
    "m= loan(\"Sabari\",\"Bakers street London\",\"01-777-523-342\",\"Chinese\")"
   ]
  },
  {
   "cell_type": "code",
   "execution_count": 40,
   "id": "e006b0f5-0ab1-4030-8532-985825858c94",
   "metadata": {},
   "outputs": [
    {
     "data": {
      "text/plain": [
       "('Sabari', 'Bakers street London', '01-777-523-342')"
      ]
     },
     "execution_count": 40,
     "metadata": {},
     "output_type": "execute_result"
    }
   ],
   "source": [
    "m.bio()"
   ]
  },
  {
   "cell_type": "code",
   "execution_count": null,
   "id": "5bed3be2-4e8b-40ee-8468-6b071ccf34c8",
   "metadata": {},
   "outputs": [],
   "source": []
  },
  {
   "cell_type": "code",
   "execution_count": null,
   "id": "c6443b89-7d80-4290-a61b-4b662f45cfac",
   "metadata": {},
   "outputs": [],
   "source": []
  },
  {
   "cell_type": "code",
   "execution_count": null,
   "id": "2615101c-fae5-41a3-8bf2-19191fbaa1b8",
   "metadata": {},
   "outputs": [],
   "source": []
  },
  {
   "cell_type": "code",
   "execution_count": null,
   "id": "567577f4-f170-44d5-910c-a067e7ee748c",
   "metadata": {},
   "outputs": [],
   "source": []
  }
 ],
 "metadata": {
  "kernelspec": {
   "display_name": "Python 3 (ipykernel)",
   "language": "python",
   "name": "python3"
  },
  "language_info": {
   "codemirror_mode": {
    "name": "ipython",
    "version": 3
   },
   "file_extension": ".py",
   "mimetype": "text/x-python",
   "name": "python",
   "nbconvert_exporter": "python",
   "pygments_lexer": "ipython3",
   "version": "3.11.4"
  }
 },
 "nbformat": 4,
 "nbformat_minor": 5
}
